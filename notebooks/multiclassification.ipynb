{
 "cells": [
  {
   "cell_type": "code",
   "execution_count": 1,
   "metadata": {},
   "outputs": [],
   "source": [
    "import tensorflow as tf\n",
    "from tensorflow import keras\n",
    "import numpy as np\n",
    "import matplotlib.pyplot as plt\n",
    "from sklearn.model_selection import train_test_split\n",
    "import pandas as pd"
   ]
  },
  {
   "cell_type": "code",
   "execution_count": 2,
   "metadata": {},
   "outputs": [],
   "source": [
    "df = pd.read_csv(\"../data/full_df_cleaned_v3.csv\")"
   ]
  },
  {
   "cell_type": "code",
   "execution_count": 3,
   "metadata": {},
   "outputs": [
    {
     "data": {
      "text/html": [
       "<div>\n",
       "<style scoped>\n",
       "    .dataframe tbody tr th:only-of-type {\n",
       "        vertical-align: middle;\n",
       "    }\n",
       "\n",
       "    .dataframe tbody tr th {\n",
       "        vertical-align: top;\n",
       "    }\n",
       "\n",
       "    .dataframe thead th {\n",
       "        text-align: right;\n",
       "    }\n",
       "</style>\n",
       "<table border=\"1\" class=\"dataframe\">\n",
       "  <thead>\n",
       "    <tr style=\"text-align: right;\">\n",
       "      <th></th>\n",
       "      <th>Diagnostic</th>\n",
       "      <th>file</th>\n",
       "      <th>target_init</th>\n",
       "      <th>Patient Age</th>\n",
       "      <th>Patient Sex</th>\n",
       "      <th>Target</th>\n",
       "      <th>tarstr</th>\n",
       "      <th>N</th>\n",
       "      <th>D</th>\n",
       "      <th>G</th>\n",
       "      <th>C</th>\n",
       "      <th>A</th>\n",
       "      <th>H</th>\n",
       "      <th>M</th>\n",
       "      <th>O</th>\n",
       "      <th>filename</th>\n",
       "    </tr>\n",
       "  </thead>\n",
       "  <tbody>\n",
       "    <tr>\n",
       "      <th>5342</th>\n",
       "      <td>moderate non proliferative retinopathy</td>\n",
       "      <td>3934_left.jpg</td>\n",
       "      <td>[0, 1, 0, 0, 0, 0, 0, 0]</td>\n",
       "      <td>42</td>\n",
       "      <td>Male</td>\n",
       "      <td>[0, 1, 0, 0, 0, 0, 0, 0]</td>\n",
       "      <td>D</td>\n",
       "      <td>0</td>\n",
       "      <td>1</td>\n",
       "      <td>0</td>\n",
       "      <td>0</td>\n",
       "      <td>0</td>\n",
       "      <td>0</td>\n",
       "      <td>0</td>\n",
       "      <td>0</td>\n",
       "      <td>3934_left_42_Male_D.jpg</td>\n",
       "    </tr>\n",
       "  </tbody>\n",
       "</table>\n",
       "</div>"
      ],
      "text/plain": [
       "                                  Diagnostic           file  \\\n",
       "5342  moderate non proliferative retinopathy  3934_left.jpg   \n",
       "\n",
       "                   target_init  Patient Age Patient Sex  \\\n",
       "5342  [0, 1, 0, 0, 0, 0, 0, 0]           42        Male   \n",
       "\n",
       "                        Target tarstr  N  D  G  C  A  H  M  O  \\\n",
       "5342  [0, 1, 0, 0, 0, 0, 0, 0]      D  0  1  0  0  0  0  0  0   \n",
       "\n",
       "                     filename  \n",
       "5342  3934_left_42_Male_D.jpg  "
      ]
     },
     "execution_count": 3,
     "metadata": {},
     "output_type": "execute_result"
    }
   ],
   "source": [
    "df.sample(1)"
   ]
  },
  {
   "cell_type": "code",
   "execution_count": 4,
   "metadata": {},
   "outputs": [],
   "source": [
    "# tarNumber = 0 --> N\n",
    "# tarNumber = 1 --> D ...\n",
    "\n",
    "def tarNumberGenerator(characterInput):\n",
    "    if(characterInput == 'N'):\n",
    "        return 0\n",
    "    elif(characterInput == 'D'):\n",
    "        return 1\n",
    "    elif(characterInput == 'G'):\n",
    "        return 2\n",
    "    elif(characterInput == 'C'):\n",
    "        return 3\n",
    "    elif(characterInput == 'A'):\n",
    "        return 4\n",
    "    elif(characterInput == 'H'):\n",
    "        return 5\n",
    "    elif(characterInput == 'M'):\n",
    "        return 6\n",
    "    elif(characterInput == 'O'):\n",
    "        return 7\n",
    "    else:\n",
    "        return 0\n",
    "    \n",
    "df['tarNum'] = df['tarstr'].apply(tarNumberGenerator)"
   ]
  },
  {
   "cell_type": "code",
   "execution_count": 5,
   "metadata": {},
   "outputs": [],
   "source": [
    "IMAGE_PATH = 'D:/College/6th_Semester/Mini_Project/data/preprocessed_images2/'"
   ]
  },
  {
   "cell_type": "code",
   "execution_count": 6,
   "metadata": {},
   "outputs": [],
   "source": [
    "df['filepath'] = IMAGE_PATH + df['filename']"
   ]
  },
  {
   "cell_type": "code",
   "execution_count": 7,
   "metadata": {},
   "outputs": [
    {
     "data": {
      "text/html": [
       "<div>\n",
       "<style scoped>\n",
       "    .dataframe tbody tr th:only-of-type {\n",
       "        vertical-align: middle;\n",
       "    }\n",
       "\n",
       "    .dataframe tbody tr th {\n",
       "        vertical-align: top;\n",
       "    }\n",
       "\n",
       "    .dataframe thead th {\n",
       "        text-align: right;\n",
       "    }\n",
       "</style>\n",
       "<table border=\"1\" class=\"dataframe\">\n",
       "  <thead>\n",
       "    <tr style=\"text-align: right;\">\n",
       "      <th></th>\n",
       "      <th>Diagnostic</th>\n",
       "      <th>file</th>\n",
       "      <th>target_init</th>\n",
       "      <th>Patient Age</th>\n",
       "      <th>Patient Sex</th>\n",
       "      <th>Target</th>\n",
       "      <th>tarstr</th>\n",
       "      <th>N</th>\n",
       "      <th>D</th>\n",
       "      <th>G</th>\n",
       "      <th>C</th>\n",
       "      <th>A</th>\n",
       "      <th>H</th>\n",
       "      <th>M</th>\n",
       "      <th>O</th>\n",
       "      <th>filename</th>\n",
       "      <th>tarNum</th>\n",
       "      <th>filepath</th>\n",
       "    </tr>\n",
       "  </thead>\n",
       "  <tbody>\n",
       "    <tr>\n",
       "      <th>5102</th>\n",
       "      <td>normal fundus</td>\n",
       "      <td>3183_left.jpg</td>\n",
       "      <td>[1, 0, 0, 0, 0, 0, 0, 0]</td>\n",
       "      <td>52</td>\n",
       "      <td>Male</td>\n",
       "      <td>[1, 0, 0, 0, 0, 0, 0, 0]</td>\n",
       "      <td>N</td>\n",
       "      <td>1</td>\n",
       "      <td>0</td>\n",
       "      <td>0</td>\n",
       "      <td>0</td>\n",
       "      <td>0</td>\n",
       "      <td>0</td>\n",
       "      <td>0</td>\n",
       "      <td>0</td>\n",
       "      <td>3183_left_52_Male_N.jpg</td>\n",
       "      <td>0</td>\n",
       "      <td>D:/College/6th_Semester/Mini_Project/data/prep...</td>\n",
       "    </tr>\n",
       "    <tr>\n",
       "      <th>2946</th>\n",
       "      <td>mild nonproliferative retinopathy</td>\n",
       "      <td>4580_right.jpg</td>\n",
       "      <td>[0, 1, 0, 0, 0, 0, 0, 0]</td>\n",
       "      <td>68</td>\n",
       "      <td>Male</td>\n",
       "      <td>[0, 1, 0, 0, 0, 0, 0, 0]</td>\n",
       "      <td>D</td>\n",
       "      <td>0</td>\n",
       "      <td>1</td>\n",
       "      <td>0</td>\n",
       "      <td>0</td>\n",
       "      <td>0</td>\n",
       "      <td>0</td>\n",
       "      <td>0</td>\n",
       "      <td>0</td>\n",
       "      <td>4580_right_68_Male_D.jpg</td>\n",
       "      <td>1</td>\n",
       "      <td>D:/College/6th_Semester/Mini_Project/data/prep...</td>\n",
       "    </tr>\n",
       "  </tbody>\n",
       "</table>\n",
       "</div>"
      ],
      "text/plain": [
       "                             Diagnostic            file  \\\n",
       "5102                      normal fundus   3183_left.jpg   \n",
       "2946  mild nonproliferative retinopathy  4580_right.jpg   \n",
       "\n",
       "                   target_init  Patient Age Patient Sex  \\\n",
       "5102  [1, 0, 0, 0, 0, 0, 0, 0]           52        Male   \n",
       "2946  [0, 1, 0, 0, 0, 0, 0, 0]           68        Male   \n",
       "\n",
       "                        Target tarstr  N  D  G  C  A  H  M  O  \\\n",
       "5102  [1, 0, 0, 0, 0, 0, 0, 0]      N  1  0  0  0  0  0  0  0   \n",
       "2946  [0, 1, 0, 0, 0, 0, 0, 0]      D  0  1  0  0  0  0  0  0   \n",
       "\n",
       "                      filename  tarNum  \\\n",
       "5102   3183_left_52_Male_N.jpg       0   \n",
       "2946  4580_right_68_Male_D.jpg       1   \n",
       "\n",
       "                                               filepath  \n",
       "5102  D:/College/6th_Semester/Mini_Project/data/prep...  \n",
       "2946  D:/College/6th_Semester/Mini_Project/data/prep...  "
      ]
     },
     "execution_count": 7,
     "metadata": {},
     "output_type": "execute_result"
    }
   ],
   "source": [
    "df.sample(2)"
   ]
  },
  {
   "cell_type": "code",
   "execution_count": 8,
   "metadata": {},
   "outputs": [],
   "source": [
    "# Load the image data\n",
    "import imageio.v2 as imageio\n",
    "img_data = []\n",
    "number_id_nofile = []\n",
    "\n",
    "for i in range(len(df)):\n",
    "  try:\n",
    "    img_data.append(imageio.imread(df['filepath'][i]))\n",
    "  except:\n",
    "    number_id_nofile.append(df.index[i])"
   ]
  },
  {
   "cell_type": "code",
   "execution_count": 9,
   "metadata": {},
   "outputs": [
    {
     "data": {
      "text/plain": [
       "(256, 256, 3)"
      ]
     },
     "execution_count": 9,
     "metadata": {},
     "output_type": "execute_result"
    }
   ],
   "source": [
    "img_data[0].shape"
   ]
  },
  {
   "cell_type": "code",
   "execution_count": 10,
   "metadata": {},
   "outputs": [],
   "source": [
    "img_data_array = np.array(img_data)"
   ]
  },
  {
   "cell_type": "code",
   "execution_count": 11,
   "metadata": {},
   "outputs": [],
   "source": [
    "x = img_data_array\n",
    "y = df['tarNum']"
   ]
  },
  {
   "cell_type": "code",
   "execution_count": 12,
   "metadata": {},
   "outputs": [],
   "source": [
    "# Split the data\n",
    "X_train, X_test, y_train, y_test = train_test_split( x, y, test_size=0.3, stratify=y)"
   ]
  },
  {
   "cell_type": "code",
   "execution_count": 13,
   "metadata": {},
   "outputs": [],
   "source": [
    "#Normalize\n",
    "X_train = X_train / 255\n",
    "X_test = X_test/255"
   ]
  },
  {
   "cell_type": "code",
   "execution_count": 14,
   "metadata": {},
   "outputs": [
    {
     "data": {
      "text/plain": [
       "False"
      ]
     },
     "execution_count": 14,
     "metadata": {},
     "output_type": "execute_result"
    }
   ],
   "source": [
    "y.__contains__(-1)"
   ]
  },
  {
   "cell_type": "code",
   "execution_count": 15,
   "metadata": {},
   "outputs": [],
   "source": [
    "# Make the NDGCAHMO into a single array\n",
    "# to categorical\n",
    "y_train_categorical = keras.utils.to_categorical(\n",
    "    y_train, num_classes=8\n",
    ")\n",
    "y_test_categorical = keras.utils.to_categorical(\n",
    "    y_test, num_classes=8\n",
    ")"
   ]
  },
  {
   "cell_type": "code",
   "execution_count": 16,
   "metadata": {},
   "outputs": [
    {
     "data": {
      "text/plain": [
       "array([1., 0., 0., 0., 0., 0., 0., 0.])"
      ]
     },
     "execution_count": 16,
     "metadata": {},
     "output_type": "execute_result"
    }
   ],
   "source": [
    "y_train_categorical.shape\n",
    "y_train_categorical[0]"
   ]
  },
  {
   "cell_type": "code",
   "execution_count": 24,
   "metadata": {},
   "outputs": [],
   "source": [
    "import keras\n",
    "from keras.models import Sequential\n",
    "from keras.layers import Dense, Dropout, Flatten\n",
    "from keras.layers import Conv2D, MaxPooling2D"
   ]
  },
  {
   "cell_type": "code",
   "execution_count": 18,
   "metadata": {},
   "outputs": [],
   "source": [
    "def initialize_model():\n",
    "  model = models.Sequential()\n",
    "\n",
    "  model.add(layers.Conv2D(32, (3,3), input_shape=(256, 256, 3), activation='relu', padding='same'))\n",
    "  model.add(layers.MaxPool2D(pool_size=(2,2)))\n",
    "  model.add(layers.Conv2D(64, (3,3), activation='relu', padding='same'))\n",
    "  model.add(layers.MaxPool2D(pool_size=(2,2)))\n",
    "  model.add(layers.Conv2D(128, (3,3), activation='relu', padding='same'))\n",
    "  model.add(layers.MaxPool2D(pool_size=(3,3)))\n",
    "  model.add(layers.Conv2D(256, (3,3), activation='relu', padding='same'))\n",
    "  model.add(layers.MaxPool2D(pool_size=(3,3)))\n",
    "  ### Flattening\n",
    "  model.add(layers.Flatten())\n",
    "  ### One fully connected\n",
    "  model.add(layers.Dense(128, activation='relu'))\n",
    "  model.add(layers.Dropout(rate=0.5))\n",
    "  model.add(layers.Dense(64, activation='relu'))\n",
    "  model.add(layers.Dropout(rate=0.5))\n",
    "  model.add(layers.Dense(8, activation='sigmoid'))\n",
    "\n",
    "  model.compile(loss='categorical_crossentropy', \n",
    "        optimizer='adam',\n",
    "        metrics=['accuracy'])\n",
    "\n",
    "  return model"
   ]
  },
  {
   "cell_type": "code",
   "execution_count": 19,
   "metadata": {},
   "outputs": [
    {
     "name": "stderr",
     "output_type": "stream",
     "text": [
      "c:\\Users\\Hamza\\AppData\\Local\\Programs\\Python\\Python312\\Lib\\site-packages\\keras\\src\\layers\\convolutional\\base_conv.py:107: UserWarning: Do not pass an `input_shape`/`input_dim` argument to a layer. When using Sequential models, prefer using an `Input(shape)` object as the first layer in the model instead.\n",
      "  super().__init__(activity_regularizer=activity_regularizer, **kwargs)\n"
     ]
    }
   ],
   "source": [
    "model = initialize_model()\n",
    "# model.summary()"
   ]
  },
  {
   "cell_type": "code",
   "execution_count": 20,
   "metadata": {},
   "outputs": [],
   "source": [
    "from keras.callbacks import EarlyStopping"
   ]
  },
  {
   "cell_type": "code",
   "execution_count": 21,
   "metadata": {},
   "outputs": [
    {
     "name": "stdout",
     "output_type": "stream",
     "text": [
      "\u001b[1m188/188\u001b[0m \u001b[32m━━━━━━━━━━━━━━━━━━━━\u001b[0m\u001b[37m\u001b[0m \u001b[1m184s\u001b[0m 942ms/step - accuracy: 0.3781 - loss: 1.7775 - val_accuracy: 0.4790 - val_loss: 1.5386\n"
     ]
    }
   ],
   "source": [
    "model = initialize_model()\n",
    "es = EarlyStopping(patience=20, restore_best_weights=True)\n",
    "\n",
    "history = model.fit(X_train, y_train_categorical,\n",
    "                    validation_split=0.3,\n",
    "                    epochs=1,\n",
    "                    batch_size=16, \n",
    "                    verbose=1,\n",
    "                    callbacks=[es])"
   ]
  },
  {
   "cell_type": "code",
   "execution_count": 22,
   "metadata": {},
   "outputs": [
    {
     "data": {
      "text/plain": [
       "[1.570215106010437, 0.4558342397212982]"
      ]
     },
     "execution_count": 22,
     "metadata": {},
     "output_type": "execute_result"
    }
   ],
   "source": [
    "model.evaluate(X_test, y_test_categorical, verbose=0)"
   ]
  },
  {
   "cell_type": "code",
   "execution_count": 23,
   "metadata": {},
   "outputs": [
    {
     "name": "stderr",
     "output_type": "stream",
     "text": [
      "WARNING:absl:You are saving your model as an HDF5 file via `model.save()` or `keras.saving.save_model(model)`. This file format is considered legacy. We recommend using instead the native Keras format, e.g. `model.save('my_model.keras')` or `keras.saving.save_model(model, 'my_model.keras')`. \n"
     ]
    }
   ],
   "source": [
    "model.save(\"multipleClassification.h5\")"
   ]
  }
 ],
 "metadata": {
  "kernelspec": {
   "display_name": "Python 3",
   "language": "python",
   "name": "python3"
  },
  "language_info": {
   "codemirror_mode": {
    "name": "ipython",
    "version": 3
   },
   "file_extension": ".py",
   "mimetype": "text/x-python",
   "name": "python",
   "nbconvert_exporter": "python",
   "pygments_lexer": "ipython3",
   "version": "3.12.1"
  }
 },
 "nbformat": 4,
 "nbformat_minor": 2
}
